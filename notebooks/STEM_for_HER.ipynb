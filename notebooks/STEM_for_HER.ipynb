{
 "cells": [
  {
   "cell_type": "markdown",
   "metadata": {},
   "source": [
    "# Vibe Check\n",
    "### Using Twitter’s API and Sentiment Analysis to Understand What’s the What on the Internet\n",
    "\n",
    "Today's session will cover:\n",
    "1.   Setting up Access to the Twitter API and Getting API Access Keys\n",
    "2.   Getting Data from Twitter using the Twitter API\n",
    "3.   Basic Data Operations and Data Cleaning\n",
    "4.   Sentiment Analysis With Python using NLTK\n",
    "\n",
    "<!--- TODO: Slides with: Intros - who we are, what does FN do overview, session goals/ what is an API + QR code with link to public google colab + session end slides - career guidance? (One of our learning objectives was \"What jobs or internships can you search for to use the skills covered in this workshop?\" -->\n"
   ]
  },
  {
   "cell_type": "markdown",
   "metadata": {
    "id": "UhEkeNWy6Jp5"
   },
   "source": [
    "# Data Retrieval"
   ]
  },
  {
   "cell_type": "markdown",
   "metadata": {},
   "source": [
    "## APIs\n",
    "### What are APIs?\n",
    "\n",
    "An API is the most popular way to access data programmatically - API documentation will tell our clients what is available and how to “ask” our API for it.\n",
    "\n",
    "If you've ever seen tweets embedded on a webpage, those were pulled in via an API!\n",
    "\n",
    "First, we're going to set up some libraries, and our API authentication information:"
   ]
  },
  {
   "cell_type": "markdown",
   "metadata": {},
   "source": [
    "We have our \"bearer_token\" - like a secret password that belongs to only us so Twitter knows who exactly is asking it for data - stored in a file. We're going to read the data in:\n"
   ]
  },
  {
   "cell_type": "code",
   "execution_count": 1,
   "metadata": {},
   "outputs": [],
   "source": [
    "with open(f\"../utils/bearer_token.txt\", \"r\") as token_file:\n",
    "    bearer_token = token_file.read()"
   ]
  },
  {
   "cell_type": "markdown",
   "metadata": {},
   "source": [
    "Next, we'll set up what we need to make the actual request to the Twitter API:\n",
    "1. The information telling Twitter exactly who we are:\n",
    "    - **`bearer_token`**: the secret password, to Authenticate us\n",
    "    - **`User-Agent`**: a name for what project we're working on.\n",
    "    - This information is important for Twitter to track so they can keep track of who is using their API and make sure that nobody is abusing the API. Pretty much every API will require you to identify yourself in some way before you can get data back.\n",
    "\n",
    "\n",
    "2. The URL we're going to request. In this case: `https://api.twitter.com/2/tweets/search/recent`\n",
    "    - **`api.twitter.com`**: tells Twitter we're trying to hit the API, as opposed to the main feed/user interface.\n",
    "    - **`2`**: shows that we're hitting Version 2.0 of the API. If we put `1` instead, we would hit the 1st version, which would both require slightly different request syntax, and would return data formatted differently.\n",
    "    - **`tweets`**: indicates which data type we want to request. We could also input `users`, `spaces`, or `lists` to get different datatypes back.\n",
    "    - **`search`**: says we want to search over tweets. We could also put `counts` to get the number of tweets, or we could look up tweets directly by their IDs. `search` allows us to give Twitter a query - a set of terms we want to include or exclude - and we'll get back tweets that match our query terms.\n",
    "    - **`recent`**: Twitter allows you to search either over only Tweets from the last week, or `all` Tweets, depending on your level of access. We'll stick to `recent`, because we're interested in what's happening on Twitter right now. \n"
   ]
  },
  {
   "cell_type": "code",
   "execution_count": 2,
   "metadata": {},
   "outputs": [],
   "source": [
    "import requests\n",
    "import json\n",
    "\n",
    "headers = {\n",
    "    \"Authorization\": f\"Bearer {bearer_token}\",\n",
    "    \"User-Agent\": \"stem-for-her-demo\"\n",
    "}\n",
    "\n",
    "search_url = \"https://api.twitter.com/2/tweets/search/recent?\""
   ]
  },
  {
   "cell_type": "markdown",
   "metadata": {},
   "source": [
    "## Building a Query\n",
    "\n",
    "See: https://developer.twitter.com/en/docs/twitter-api/tweets/search/integrate/build-a-query\n",
    "\n",
    "<!--- Audience Participation here - ask for hashtags/ keyword search ideas - maybe pull up twitter trends on a screen? Live edit notebook to change search keywords-->\n",
    "\n",
    "-- Harry Styles, Elon Musk, other things that are trending, Taylor Swift tour?\n",
    "\n",
    "### Optional Fields\n",
    "tweet.fields lets us add specific fields -  here we add `created_at`\n",
    "\n",
    "### Query String\n",
    "\n",
    "-is:retweet *excludes* any retweets\n",
    "\n"
   ]
  },
  {
   "cell_type": "code",
   "execution_count": 27,
   "metadata": {
    "pycharm": {
     "is_executing": true
    }
   },
   "outputs": [
    {
     "name": "stdout",
     "output_type": "stream",
     "text": [
      "#harrystyles \"watermelon sugar\" -is:retweet \n"
     ]
    }
   ],
   "source": [
    "query_string = '#harrystyles ' # tweets #HarryStyles hashtag\n",
    "query_string += '\"watermelon sugar\" ' # tweets that have \"watermelon sugar\" somewhere in their text\n",
    "query_string += '-is:retweet ' # eliminate retweets\n",
    "print(query_string)"
   ]
  },
  {
   "cell_type": "markdown",
   "metadata": {},
   "source": [
    "See all the different operators types you can add to your search here: https://developer.twitter.com/en/docs/twitter-api/tweets/search/integrate/build-a-query#operators"
   ]
  },
  {
   "cell_type": "markdown",
   "metadata": {},
   "source": [
    "## GET vs POST requests\n",
    "\n",
    "When using APIs, there are multiple ways you can engage with them. The API Documentation will tell you what you're able to do, but one important thing to know about is what _type_ of requests you can make.\n",
    "\n",
    "`GET` requests are exactly what they sound like - you use them to _GET_ data back from the API. \n",
    "`POST` requests are a little more complicated, but generally they are used to _create_ data via the API. Any Twitter Bot you see is going to be using POST requests to create Tweets. See: https://twitter.com/MagicRealismBot\n",
    "\n",
    "One difference for our purposes is how you have to pass in the data or search you're trying to make.\n",
    "For `GET` requests, you pass in your query via the URL.\n",
    "- when you Google something, like \"what's the top news today\", it's going to _encode_ your query in the URL: https://www.google.com/search?q=what%27s+the+top+news+for+today\n",
    "\n",
    "(BTW, every time you Google something, you're just using the Google Search API, except they're putting a user interface on top of it for you)\n",
    "\n",
    "So we need to URL-encode our query too - that just means translating it into something that the API can read. Luckily, there are tools that will do this for us."
   ]
  },
  {
   "cell_type": "code",
   "execution_count": 33,
   "metadata": {},
   "outputs": [],
   "source": [
    "query_params = {'query': urllib.parse.quote(query_string),\n",
    "                'tweet.fields': 'created_at,id,lang,source,text,id', # what data we want to return\n",
    "                'expansions': 'author_id'     # will include the profile ID of the author\n",
    "               }"
   ]
  },
  {
   "cell_type": "code",
   "execution_count": 34,
   "metadata": {},
   "outputs": [
    {
     "name": "stdout",
     "output_type": "stream",
     "text": [
      "query=%23harrystyles%20%22watermelon%20sugar%22%20-is%3Aretweet%20&tweet.fields=created_at,id,lang,source,text,id&expansions=author_id\n",
      "original query string:  query=%23harrystyles%20%22watermelon%20sugar%22%20-is%3Aretweet%20&tweet.fields=created_at,id,lang,source,text,id&expansions=author_id\n"
     ]
    }
   ],
   "source": [
    "import urllib\n",
    "\n",
    "query_string = \"&\".join([f\"{key}={value}\" for key, value in query_params.items()])\n",
    "print(query_string)\n",
    "\n",
    "print(\"original query string: \", query_string)\n",
    "\n",
    "\n",
    "# print(\"encoded query string: \", encoded_query_string)"
   ]
  },
  {
   "cell_type": "code",
   "execution_count": 38,
   "metadata": {},
   "outputs": [
    {
     "name": "stdout",
     "output_type": "stream",
     "text": [
      "200\n",
      "{\n",
      "  \"data\": [\n",
      "    {\n",
      "      \"text\": \"'Watermelon Sugar' has 1,998,457,525, just missing 1.542.475 to reach 2 BILLION \\n\\n#HarryStyles \\n\\nI'm Voting for Harry Styles for Artist Of The Year at #AMAs\",\n",
      "      \"id\": \"1590958033974489090\",\n",
      "      \"source\": \"Twitter for Android\",\n",
      "      \"created_at\": \"2022-11-11T06:42:08.000Z\",\n",
      "      \"lang\": \"en\",\n",
      "      \"edit_history_tweet_ids\": [\n",
      "        \"1590958033974489090\"\n",
      "      ],\n",
      "      \"author_id\": \"1565807431057276929\"\n",
      "    },\n",
      "    {\n",
      "      \"text\": \"'Watermelon Sugar' by @Harry_Styles has surpassed 2 BILLION streams on @Spotify.\\n\\n#HarryStyles\",\n",
      "      \"id\": \"1590747844205752320\",\n",
      "      \"source\": \"Twitter for Android\",\n",
      "      \"created_at\": \"2022-11-10T16:46:55.000Z\",\n",
      "      \"lang\": \"en\",\n",
      "      \"edit_history_tweet_ids\": [\n",
      "        \"1590747844205752320\"\n",
      "      ],\n",
      "      \"author_id\": \"1434619486930354180\"\n",
      "    },\n",
      "    {\n",
      "      \"text\": \"VENDO INGRESSOS SHOW HARRYSTYLES \\ud83c\\udfab\\n\\ud83d\\udccdlocal: S\\u00e3o Paulo\\n\\ud83d\\uddd306/12 \\n\\ud83c\\udf86 pista, Watermelon sugar \\ud83c\\udf49\\n#HarryStylesLoveOnTour #LoveOnTour \\n#harrystyles #harrystylestickets #saopaulo #harrystylesingressos https://t.co/FpRf7jwHvF\",\n",
      "      \"id\": \"1590734448299212800\",\n",
      "      \"source\": \"Twitter for iPhone\",\n",
      "      \"created_at\": \"2022-11-10T15:53:41.000Z\",\n",
      "      \"lang\": \"pt\",\n",
      "      \"edit_history_tweet_ids\": [\n",
      "        \"1590734448299212800\"\n",
      "      ],\n",
      "      \"author_id\": \"1590725781558280194\"\n",
      "    },\n",
      "    {\n",
      "      \"text\": \"\\ud83d\\udea8 VENDO INGRESSOS PRO SHOW DE HARRY STYLES \\ud83d\\udea8\\n\\n- tenho 1 meia e 3 inteiras\\n- pista premium watermelon sugar\\n- show de s\\u00e3o paulo (6 de dezembro)\\n- R$600,00 por ingresso (mais barato do q por quanto comprei) #HarryStylesLoveOnTour #HSLOT #HarryStyles\",\n",
      "      \"id\": \"1590684125442486275\",\n",
      "      \"source\": \"Twitter for iPhone\",\n",
      "      \"created_at\": \"2022-11-10T12:33:43.000Z\",\n",
      "      \"lang\": \"pt\",\n",
      "      \"edit_history_tweet_ids\": [\n",
      "        \"1590684125442486275\"\n",
      "      ],\n",
      "      \"author_id\": \"2480132328\"\n",
      "    },\n",
      "    {\n",
      "      \"text\": \"@HLDPromo Watermelon sugar \\n\\nI vote for #HarryStyles\\u00a0 as #TheMaleArtist at the #PCAs\",\n",
      "      \"id\": \"1590556391840022528\",\n",
      "      \"source\": \"Twitter for iPhone\",\n",
      "      \"created_at\": \"2022-11-10T04:06:09.000Z\",\n",
      "      \"referenced_tweets\": [\n",
      "        {\n",
      "          \"type\": \"replied_to\",\n",
      "          \"id\": \"1590555431046639617\"\n",
      "        }\n",
      "      ],\n",
      "      \"lang\": \"en\",\n",
      "      \"edit_history_tweet_ids\": [\n",
      "        \"1590556391840022528\"\n",
      "      ],\n",
      "      \"author_id\": \"2742002340\"\n",
      "    },\n",
      "    {\n",
      "      \"text\": \"watermelon sugar I vote for #HarryStyles\\u00a0\\u00a0 in #TheMaleArtist of 2022 #PCAs\",\n",
      "      \"id\": \"1590187971176984578\",\n",
      "      \"source\": \"Twitter for iPhone\",\n",
      "      \"created_at\": \"2022-11-09T03:42:11.000Z\",\n",
      "      \"referenced_tweets\": [\n",
      "        {\n",
      "          \"type\": \"replied_to\",\n",
      "          \"id\": \"1590186928959520771\"\n",
      "        }\n",
      "      ],\n",
      "      \"lang\": \"en\",\n",
      "      \"edit_history_tweet_ids\": [\n",
      "        \"1590187971176984578\"\n",
      "      ],\n",
      "      \"author_id\": \"1226689459242094593\"\n",
      "    },\n",
      "    {\n",
      "      \"text\": \"Song mashup:\\nI could never go without Watermelon Sugar Hi It's Me! I'm the Problem it's me!\\n#taylorswift #Harrystyles\",\n",
      "      \"id\": \"1589680541561126913\",\n",
      "      \"source\": \"Twitter Web App\",\n",
      "      \"created_at\": \"2022-11-07T18:05:50.000Z\",\n",
      "      \"lang\": \"en\",\n",
      "      \"edit_history_tweet_ids\": [\n",
      "        \"1589680541561126913\"\n",
      "      ],\n",
      "      \"author_id\": \"607649683\"\n",
      "    },\n",
      "    {\n",
      "      \"text\": \"Vendo 2 ingressos Harry Styles SP 13/09 - Pista Watermelon Sugar\\n\\nMEIA ENTRADA LEI FEDERAL \\u26a0\\ufe0f\\n\\nInteressados s\\u00f3 comentar!\\n\\n#HarryStyles #onedirection #saopaulo #watermelonsugar #SP\",\n",
      "      \"id\": \"1589093703125061632\",\n",
      "      \"source\": \"Twitter for iPhone\",\n",
      "      \"created_at\": \"2022-11-06T03:13:57.000Z\",\n",
      "      \"lang\": \"pt\",\n",
      "      \"edit_history_tweet_ids\": [\n",
      "        \"1589093703125061632\"\n",
      "      ],\n",
      "      \"author_id\": \"1496356528072310784\"\n",
      "    },\n",
      "    {\n",
      "      \"text\": \"\\ud83d\\udea8VENDO: Love On Tour - S\\u00e3o Paulo 06/12 \\nPista Watermelon Sugar (inteira) \\nValor negoci\\u00e1vel \\n\\n#LoveOnTour #LoveOnTour2022 #ingresso #HarryStyles #HarryStylesLoveOnTour2022 #harrystylestickets #loveontoursaopaulo\",\n",
      "      \"id\": \"1589071901615587330\",\n",
      "      \"source\": \"Twitter for iPhone\",\n",
      "      \"created_at\": \"2022-11-06T01:47:19.000Z\",\n",
      "      \"lang\": \"pt\",\n",
      "      \"edit_history_tweet_ids\": [\n",
      "        \"1589071901615587330\"\n",
      "      ],\n",
      "      \"author_id\": \"741028753502003200\"\n",
      "    },\n",
      "    {\n",
      "      \"text\": \"watermelon sugar is a good song don\\u2019t lie #HarryStyles https://t.co/njyUMxnRRK\",\n",
      "      \"id\": \"1588636714754486273\",\n",
      "      \"source\": \"Twitter for iPhone\",\n",
      "      \"created_at\": \"2022-11-04T20:58:02.000Z\",\n",
      "      \"lang\": \"en\",\n",
      "      \"edit_history_tweet_ids\": [\n",
      "        \"1588636714754486273\"\n",
      "      ],\n",
      "      \"author_id\": \"1588634284159647750\"\n",
      "    }\n",
      "  ],\n",
      "  \"includes\": {\n",
      "    \"users\": [\n",
      "      {\n",
      "        \"id\": \"1565807431057276929\",\n",
      "        \"name\": \"L&Hstats\",\n",
      "        \"username\": \"HLstats\"\n",
      "      },\n",
      "      {\n",
      "        \"id\": \"1434619486930354180\",\n",
      "        \"name\": \"Charts & Certifications Freaks\",\n",
      "        \"username\": \"ChartCertFreaks\"\n",
      "      },\n",
      "      {\n",
      "        \"id\": \"1590725781558280194\",\n",
      "        \"name\": \"Vivi \\ud83c\\udf80\",\n",
      "        \"username\": \"tulipashazz\"\n",
      "      },\n",
      "      {\n",
      "        \"id\": \"2480132328\",\n",
      "        \"name\": \"bea\",\n",
      "        \"username\": \"mbeatrizguerra\"\n",
      "      },\n",
      "      {\n",
      "        \"id\": \"2742002340\",\n",
      "        \"name\": \"Nena\\u2019s silver tongues\\ud83c\\udf3bFaith In The Future\\u2728 \\u00d7\\u035c\\u00d7\",\n",
      "        \"username\": \"1DTaylenaMars\"\n",
      "      },\n",
      "      {\n",
      "        \"id\": \"1226689459242094593\",\n",
      "        \"name\": \"\\u1d34\",\n",
      "        \"username\": \"illicitffairs94\"\n",
      "      },\n",
      "      {\n",
      "        \"id\": \"607649683\",\n",
      "        \"name\": \"AnaisElysium\",\n",
      "        \"username\": \"AnaisElysium\"\n",
      "      },\n",
      "      {\n",
      "        \"id\": \"1496356528072310784\",\n",
      "        \"name\": \"nha\",\n",
      "        \"username\": \"wkxhyvytvq\"\n",
      "      },\n",
      "      {\n",
      "        \"id\": \"741028753502003200\",\n",
      "        \"name\": \"\\u00c1gatha Porto\",\n",
      "        \"username\": \"agathahelenaa\"\n",
      "      },\n",
      "      {\n",
      "        \"id\": \"1588634284159647750\",\n",
      "        \"name\": \"Concert Besties\",\n",
      "        \"username\": \"13KarmaIsReal\"\n",
      "      }\n",
      "    ]\n",
      "  },\n",
      "  \"meta\": {\n",
      "    \"newest_id\": \"1590958033974489090\",\n",
      "    \"oldest_id\": \"1588636714754486273\",\n",
      "    \"result_count\": 10\n",
      "  }\n",
      "}\n"
     ]
    }
   ],
   "source": [
    "full_url = search_url + query_string\n",
    "url =  \"https://api.twitter.com/2/tweets/search/recent?query=%23harrystyles%20%22watermelon%20sugar%22%20-is%3Aretweet&max_results=10&tweet.fields=author_id,created_at,id,lang,referenced_tweets,source,text&expansions=author_id\"\n",
    "\n",
    "\n",
    "response = requests.get(url=url,\n",
    "                       headers=headers)\n",
    "print(response.status_code)\n",
    "print(json.dumps(response.json(), indent=2))\n"
   ]
  },
  {
   "cell_type": "markdown",
   "metadata": {
    "id": "em6CB72b6aKV"
   },
   "source": [
    "# Getting Started with NLTK\n",
    "\n",
    "<!--- TODO: Add more here - what is NLP? Short explanation of word tokenization\n",
    "Ref: https://realpython.com/python-nltk-sentiment-analysis/#using-nltks-pre-trained-sentiment-analyzer\n",
    "-->"
   ]
  },
  {
   "cell_type": "code",
   "execution_count": null,
   "metadata": {
    "pycharm": {
     "is_executing": true
    }
   },
   "outputs": [],
   "source": [
    "%pip install nltk\n",
    "import nltk\n",
    "\n",
    "nltk.download([\"names\", \"stopwords\", \"averaged_perceptron_tagger\", \"vader_lexicon\",\"punkt\"])\n"
   ]
  },
  {
   "cell_type": "code",
   "execution_count": null,
   "metadata": {
    "pycharm": {
     "is_executing": true
    }
   },
   "outputs": [],
   "source": [
    "words = []\n",
    "for item in json_response.get('data'):\n",
    "    words.extend(nltk.word_tokenize(item.get('text')))\n",
    "unwanted = nltk.corpus.stopwords.words(\"english\")\n",
    "unwanted.extend([w.lower() for w in nltk.corpus.names.words()])\n",
    "words_clean = [w for w in words if w.isalpha() and w not in unwanted]"
   ]
  },
  {
   "cell_type": "code",
   "execution_count": null,
   "metadata": {
    "pycharm": {
     "is_executing": true
    }
   },
   "outputs": [],
   "source": [
    "fd = nltk.FreqDist(words_clean)\n",
    "print(fd.most_common(5))\n",
    "print(fd.tabulate(5))"
   ]
  },
  {
   "cell_type": "code",
   "execution_count": null,
   "metadata": {},
   "outputs": [],
   "source": [
    "from nltk.sentiment import SentimentIntensityAnalyzer\n",
    "\n",
    "sia = SentimentIntensityAnalyzer()\n",
    "\n",
    "tweets = [t['text'].replace(\"://\", \"//\") for t in json_response.get('data')]\n",
    "\n",
    "def is_positive(tweet: str) -> bool:\n",
    "    \"\"\"True if tweet has positive compound sentiment, False otherwise.\"\"\"\n",
    "    return sia.polarity_scores(tweet)[\"compound\"] > 0\n",
    "\n",
    "for t in tweets[:20]:\n",
    "    print(\">\", is_positive(t), t)"
   ]
  }
 ],
 "metadata": {
  "colab": {
   "collapsed_sections": [],
   "provenance": []
  },
  "kernelspec": {
   "display_name": "Python 3",
   "language": "python",
   "name": "python3"
  },
  "language_info": {
   "codemirror_mode": {
    "name": "ipython",
    "version": 3
   },
   "file_extension": ".py",
   "mimetype": "text/x-python",
   "name": "python",
   "nbconvert_exporter": "python",
   "pygments_lexer": "ipython3",
   "version": "3.6.3"
  }
 },
 "nbformat": 4,
 "nbformat_minor": 1
}
