{
  "nbformat": 4,
  "nbformat_minor": 0,
  "metadata": {
    "colab": {
      "provenance": [],
      "collapsed_sections": []
    },
    "kernelspec": {
      "name": "python3",
      "display_name": "Python 3"
    },
    "language_info": {
      "name": "python"
    }
  },
  "cells": [
    {
      "cell_type": "markdown",
      "source": [
        "# Vibe Check\n",
        "### Using Twitter’s API and Sentiment Analysis to Understand What’s the What on the Internet\n",
        "\n",
        "\n",
        "1.   set up access to twitter -- authentication via api\n",
        "2.   make requests to twitter api to get data we want\n",
        "3.   Format data for spacy\n",
        "4.   Set up spacy and do some sentiment analysis - pos/neg etc.\n"
      ],
      "metadata": {
        "id": "6NxhR0dr6fEe"
      }
    },
    {
      "cell_type": "markdown",
      "source": [
        "# Data Retrieval\n",
        "\n"
      ],
      "metadata": {
        "id": "UhEkeNWy6Jp5"
      }
    },
    {
      "cell_type": "markdown",
      "source": [
        "# Getting Started with Spacy\n",
        "\n"
      ],
      "metadata": {
        "id": "em6CB72b6aKV"
      }
    }
  ]
}